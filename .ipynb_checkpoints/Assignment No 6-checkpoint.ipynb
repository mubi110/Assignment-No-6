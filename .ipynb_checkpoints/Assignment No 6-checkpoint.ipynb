{
 "cells": [
  {
   "cell_type": "markdown",
   "id": "ab1bb37c-8857-4c25-897f-9b672382f05d",
   "metadata": {},
   "source": [
    "## Question No. 1"
   ]
  },
  {
   "cell_type": "code",
   "execution_count": 16,
   "id": "b602ba42-b79e-47c2-bce2-cbb9f29bdd89",
   "metadata": {},
   "outputs": [
    {
     "name": "stdout",
     "output_type": "stream",
     "text": [
      "* \n",
      "* * \n",
      "* * * \n",
      "* * * * \n",
      "* * * * * \n",
      "* * * * \n",
      "* * * \n",
      "* * \n",
      "* \n"
     ]
    }
   ],
   "source": [
    "n=5\n",
    "for i in range(1, n + 1):\n",
    "        for j in range(i):\n",
    "            print('*', end=' ')\n",
    "        print()\n",
    "for i in range(n - 1, 0, -1):\n",
    "        for j in range(i):\n",
    "            print('*', end=' ')\n",
    "        print()"
   ]
  },
  {
   "cell_type": "markdown",
   "id": "b9a89e98-f19c-4536-90d4-58b41c4f85ce",
   "metadata": {},
   "source": [
    "## Question No. 2"
   ]
  },
  {
   "cell_type": "code",
   "execution_count": 52,
   "id": "6c2ee545-368d-492d-b183-bb20fa849fc8",
   "metadata": {},
   "outputs": [
    {
     "name": "stdin",
     "output_type": "stream",
     "text": [
      "Enter the alphabet to check vowel or not 3\n"
     ]
    },
    {
     "name": "stdout",
     "output_type": "stream",
     "text": [
      "Character is Constant\n"
     ]
    }
   ],
   "source": [
    "user = input(\"Enter the alphabet to check vowel or not\")\n",
    "vowel = {\"a\",\"e\",\"i\",\"o\",\"u\"}\n",
    "\n",
    "if user.lower() in vowel:\n",
    "    print(\"Character is vowel\")\n",
    "else:\n",
    "    print(\"Character is Constant\")"
   ]
  },
  {
   "cell_type": "markdown",
   "id": "2373f70c-6c04-4c6f-9052-f71481404a91",
   "metadata": {},
   "source": [
    "## Question No. 3"
   ]
  },
  {
   "cell_type": "code",
   "execution_count": 60,
   "id": "f30f7190-9527-439e-a386-cbf6d609f4ba",
   "metadata": {},
   "outputs": [
    {
     "name": "stdin",
     "output_type": "stream",
     "text": [
      "Enter digit for creating table 14\n"
     ]
    },
    {
     "name": "stdout",
     "output_type": "stream",
     "text": [
      "14 * 1 = 14\n",
      "14 * 2 = 28\n",
      "14 * 3 = 42\n",
      "14 * 4 = 56\n",
      "14 * 5 = 70\n",
      "14 * 6 = 84\n",
      "14 * 7 = 98\n",
      "14 * 8 = 112\n",
      "14 * 9 = 126\n",
      "14 * 10 = 140\n"
     ]
    }
   ],
   "source": [
    "number = int(input(\"Enter digit for creating table\"))\n",
    "\n",
    "for i in range(1, 11):\n",
    "    print(number, \"*\", i, \"=\", number*i)\n"
   ]
  },
  {
   "cell_type": "markdown",
   "id": "c92a9189-84a4-42b2-a94e-684d402dd561",
   "metadata": {},
   "source": [
    "## Question No. 4"
   ]
  },
  {
   "cell_type": "code",
   "execution_count": null,
   "id": "c08eadea-355b-4655-9af1-a1e5e2b88016",
   "metadata": {},
   "outputs": [],
   "source": []
  },
  {
   "cell_type": "code",
   "execution_count": 28,
   "id": "53b63fb4-22c3-4945-abec-32039759580a",
   "metadata": {},
   "outputs": [
    {
     "name": "stdin",
     "output_type": "stream",
     "text": [
      "Guess the number to guess between 1 to 9:  10\n"
     ]
    },
    {
     "name": "stdout",
     "output_type": "stream",
     "text": [
      "Enter the number to guess between 1 to 9: \n"
     ]
    },
    {
     "name": "stdin",
     "output_type": "stream",
     "text": [
      "Guess the number to guess between 1 to 9:  10\n"
     ]
    },
    {
     "name": "stdout",
     "output_type": "stream",
     "text": [
      "Enter the number to guess between 1 to 9: \n"
     ]
    },
    {
     "name": "stdin",
     "output_type": "stream",
     "text": [
      "Guess the number to guess between 1 to 9:  1\n",
      "Guess the number to guess between 1 to 9:  1\n",
      "Guess the number to guess between 1 to 9:  2\n",
      "Guess the number to guess between 1 to 9:  3\n",
      "Guess the number to guess between 1 to 9:  6\n",
      "Guess the number to guess between 1 to 9:  5\n",
      "Guess the number to guess between 1 to 9:  48\n"
     ]
    },
    {
     "name": "stdout",
     "output_type": "stream",
     "text": [
      "Enter the number to guess between 1 to 9: \n"
     ]
    },
    {
     "name": "stdin",
     "output_type": "stream",
     "text": [
      "Guess the number to guess between 1 to 9:  9\n",
      "Guess the number to guess between 1 to 9:  8\n",
      "Guess the number to guess between 1 to 9:  7\n",
      "Guess the number to guess between 1 to 9:  6\n",
      "Guess the number to guess between 1 to 9:  5\n",
      "Guess the number to guess between 1 to 9:  4\n"
     ]
    },
    {
     "name": "stdout",
     "output_type": "stream",
     "text": [
      "Well guess \n"
     ]
    }
   ],
   "source": [
    "import random\n",
    "num_guess = random.randint(1, 10)\n",
    "while True:\n",
    "    try:\n",
    "        guess = int(input(\"Guess the number to guess between 1 to 9: \"))\n",
    "        if guess < 1 or guess > 9:\n",
    "            print(\"Enter the number to guess between 1 to 9: \")\n",
    "            continue\n",
    "        if guess == num_guess:\n",
    "            print(\"Well guess \")\n",
    "            break\n",
    "        else:\n",
    "            (\"Wrong guess\")\n",
    "    except ValueError:\n",
    "            print(\"Invalid input. Please enter a valid integer.\")\n"
   ]
  },
  {
   "cell_type": "markdown",
   "id": "8bf24b67-3bd0-4677-85a6-c5b4d07d2a5a",
   "metadata": {},
   "source": [
    "## Question No. 5"
   ]
  },
  {
   "cell_type": "code",
   "execution_count": 47,
   "id": "6315e030-d378-45a4-a6d2-4a7664db93b8",
   "metadata": {},
   "outputs": [
    {
     "data": {
      "text/plain": [
       "{'Cierra Vega': (6.2, 70)}"
      ]
     },
     "execution_count": 47,
     "metadata": {},
     "output_type": "execute_result"
    }
   ],
   "source": [
    "students = {\n",
    "    'Cierra Vega': (6.2, 70),\n",
    "    'Alden Cantrell': (5.9, 65),\n",
    "    'Kierra Gentry': (6.0, 68),\n",
    "    'Pierre Cox': (5.8, 66)\n",
    "}\n",
    "filtered_students = {name: (height, weight) for name, (height, weight) in students.items() if height >6 and weight >= 70}\n",
    "filtered_students"
   ]
  },
  {
   "cell_type": "markdown",
   "id": "ee836b28-2cd7-41e9-95a5-346c67382c35",
   "metadata": {},
   "source": [
    "## Question No 6"
   ]
  },
  {
   "cell_type": "code",
   "execution_count": 52,
   "id": "a059441c-c6f0-4283-bc7f-83b3aa91f9eb",
   "metadata": {},
   "outputs": [
    {
     "data": {
      "text/plain": [
       "{'C1': [], 'C2': [], 'C3': []}"
      ]
     },
     "execution_count": 52,
     "metadata": {},
     "output_type": "execute_result"
    }
   ],
   "source": [
    "Original_Dictionary={\n",
    "    'C1': [10, 20, 30],\n",
    "    'C2': [20, 30, 40],\n",
    "    'C3': [12, 34]\n",
    "}\n",
    "\n",
    "for key in Original_Dictionary:\n",
    "    Original_Dictionary[key] = []\n",
    "\n",
    "Original_Dictionary\n"
   ]
  },
  {
   "cell_type": "markdown",
   "id": "6b4fe232-ed26-4063-a6b8-a18507707187",
   "metadata": {},
   "source": [
    "## Question No 7 "
   ]
  },
  {
   "cell_type": "code",
   "execution_count": 143,
   "id": "918a6e6a-a673-4a07-918a-9b47a2ff12b5",
   "metadata": {},
   "outputs": [
    {
     "name": "stdout",
     "output_type": "stream",
     "text": [
      "The Nile runs through the Egypt\n",
      "The Yenisey runs through the Siberia\n",
      "The Yellow runs through the China\n",
      "\n",
      "Rivers:\n",
      "Nile\n",
      "Yenisey\n",
      "Yellow\n",
      "\n",
      "Countries:\n",
      "Egypt\n",
      "Siberia\n",
      "China\n"
     ]
    }
   ],
   "source": [
    "rivers = {\n",
    "    'Nile': 'Egypt',\n",
    "    'Yenisey': 'Siberia',\n",
    "    'Yellow': 'China'\n",
    "}\n",
    "\n",
    "for river, country in rivers.items():\n",
    "    print(\"The\", river, \"runs through the\", country)\n",
    "\n",
    "print(\"\\nRivers:\")\n",
    "for river in rivers.keys():\n",
    "    print(river)\n",
    "    \n",
    "print(\"\\nCountries:\")\n",
    "for country in rivers.values():\n",
    "    print(country)\n"
   ]
  },
  {
   "cell_type": "markdown",
   "id": "86ecb4e4-1a5c-4f63-8cfd-b65a7e8ac7c9",
   "metadata": {},
   "source": [
    "## Question No 8"
   ]
  },
  {
   "cell_type": "code",
   "execution_count": 173,
   "id": "716249eb-6e41-4834-89b4-b4aaa3991054",
   "metadata": {},
   "outputs": [
    {
     "name": "stdin",
     "output_type": "stream",
     "text": [
      "Enter your age 4\n"
     ]
    },
    {
     "name": "stdout",
     "output_type": "stream",
     "text": [
      "Ticket price is $10\n"
     ]
    }
   ],
   "source": [
    "# age =int(input(\"Enter your age\"))\n",
    "\n",
    "while True:\n",
    "    age =int(input(\"Enter your age\"))\n",
    "    if age < 3:\n",
    "        print(\"Ticket is free\")\n",
    "        break\n",
    "    elif age == 3 or age < 12:\n",
    "        print(\"Ticket price is $10\")\n",
    "        break\n",
    "    else:\n",
    "        print(\"Ticket price is $15\")\n",
    "        break\n"
   ]
  },
  {
   "cell_type": "code",
   "execution_count": null,
   "id": "b6549a7b-20ab-43bf-908f-0d22a30244b4",
   "metadata": {},
   "outputs": [],
   "source": []
  }
 ],
 "metadata": {
  "kernelspec": {
   "display_name": "Python 3 (ipykernel)",
   "language": "python",
   "name": "python3"
  },
  "language_info": {
   "codemirror_mode": {
    "name": "ipython",
    "version": 3
   },
   "file_extension": ".py",
   "mimetype": "text/x-python",
   "name": "python",
   "nbconvert_exporter": "python",
   "pygments_lexer": "ipython3",
   "version": "3.12.4"
  }
 },
 "nbformat": 4,
 "nbformat_minor": 5
}
